{
 "cells": [
  {
   "cell_type": "code",
   "execution_count": 1,
   "metadata": {},
   "outputs": [],
   "source": [
    "import pandas as pd\n",
    "import numpy as np\n",
    "from scipy.io import loadmat\n",
    "from scipy.sparse import coo_matrix\n",
    "from sklearn.preprocessing import Imputer\n",
    "from sklearn.metrics.pairwise import cosine_similarity"
   ]
  },
  {
   "cell_type": "code",
   "execution_count": 2,
   "metadata": {},
   "outputs": [],
   "source": [
    "def eucl_dist(x,y):\n",
    "    return np.sqrt(np.sum(np.square(x-y)))    \n",
    "\n",
    "def softmax(x):\n",
    "    \"\"\"Compute softmax values for each sets of scores in x.\"\"\"\n",
    "    e_x = np.exp(x - np.max(x))\n",
    "    return e_x / e_x.sum()"
   ]
  },
  {
   "cell_type": "code",
   "execution_count": 3,
   "metadata": {},
   "outputs": [
    {
     "name": "stdout",
     "output_type": "stream",
     "text": [
      "any columns completely blank: False\n",
      "any rows completely blank: False\n"
     ]
    }
   ],
   "source": [
    "## load data\n",
    "train_mat = loadmat('/home/bsong/kaggle_uci/kaggle77b_trainset.mat')\n",
    "test_mat = loadmat('/home/bsong/kaggle_uci/kaggle77b_testset.mat')\n",
    "\n",
    "## convert to numpy array\n",
    "train = np.array(train_mat['trainset'])\n",
    "test = np.array(test_mat['testset'])\n",
    "\n",
    "## redefine some things to better work with\n",
    "train[train==99] = np.NaN\n",
    "test[test==99] = np.NaN\n",
    "\n",
    "coor_test_pred_vals = np.where(test == 55)\n",
    "test[test==55] = np.NaN\n",
    "\n",
    "## make sure there are no empty columns or empty rows\n",
    "\n",
    "print('any columns completely blank: ' + str((train == np.NaN).all(axis=0).any()))\n",
    "print('any rows completely blank: ' + str((train == np.NaN).all(axis=1).any()))"
   ]
  },
  {
   "cell_type": "code",
   "execution_count": 5,
   "metadata": {},
   "outputs": [
    {
     "data": {
      "text/plain": [
       "(24983, 100)"
      ]
     },
     "execution_count": 5,
     "metadata": {},
     "output_type": "execute_result"
    }
   ],
   "source": [
    "comb_mats = np.concatenate((train,test), axis = 0)\n",
    "comb_mats.shape"
   ]
  },
  {
   "cell_type": "code",
   "execution_count": 6,
   "metadata": {},
   "outputs": [],
   "source": [
    "tr_conv = ((comb_mats + 10) / 20) + 1\n",
    "tr_conv = np.nan_to_num(tr_conv)"
   ]
  },
  {
   "cell_type": "code",
   "execution_count": 47,
   "metadata": {},
   "outputs": [
    {
     "name": "stdout",
     "output_type": "stream",
     "text": [
      "\n"
     ]
    }
   ],
   "source": [
    "def my_timer(function_):\n",
    "    import time\n",
    "    def wrapper(*args, **kwargs):\n",
    "        start_time = time.time()\n",
    "        result = function_(*args,**kwargs)\n",
    "        time_taken = time.time() - start_time\n",
    "        print('{}() ran in: {} seconds.'.format(function_.__name__, time_taken))\n",
    "        return result\n",
    "    return wrapper\n",
    "\n",
    "@my_timer\n",
    "class MF():\n",
    "\n",
    "    def __init__(self, R, K, alpha, beta, iterations):\n",
    "        \"\"\"\n",
    "        Perform matrix factorization to predict empty\n",
    "        entries in a matrix.\n",
    "\n",
    "        Arguments\n",
    "        - R (ndarray)   : user-item rating matrix\n",
    "        - K (int)       : number of latent dimensions\n",
    "        - alpha (float) : learning rate\n",
    "        - beta (float)  : regularization parameter\n",
    "        \"\"\"\n",
    "\n",
    "        self.R = R\n",
    "        self.num_users, self.num_items = R.shape\n",
    "        self.K = K\n",
    "        self.alpha = alpha\n",
    "        self.beta = beta\n",
    "        self.iterations = iterations\n",
    "        \n",
    "    @my_timer\n",
    "    def train(self):\n",
    "        # Initialize user and item latent feature matrice\n",
    "        self.P = np.random.normal(scale=1./self.K, size=(self.num_users, self.K))\n",
    "        self.Q = np.random.normal(scale=1./self.K, size=(self.num_items, self.K))\n",
    "\n",
    "        # Initialize the biases\n",
    "        self.b_u = np.zeros(self.num_users)\n",
    "        self.b_i = np.zeros(self.num_items)\n",
    "        self.b = np.mean(self.R[np.where(self.R != 0)])\n",
    "\n",
    "        # Create a list of training samples\n",
    "        self.samples = [\n",
    "            (i, j, self.R[i, j])\n",
    "            for i in range(self.num_users)\n",
    "            for j in range(self.num_items)\n",
    "            if self.R[i, j] > 0\n",
    "        ]\n",
    "\n",
    "        # Perform stochastic gradient descent for number of iterations\n",
    "        training_process = []\n",
    "        for i in range(self.iterations):\n",
    "            np.random.shuffle(self.samples)\n",
    "            self.sgd()\n",
    "            mse = self.mse()\n",
    "            training_process.append((i, mse))\n",
    "            if (i+1) % 5 == 0:\n",
    "                print(\"Iteration: %d ; error = %.4f\" % (i+1, mse))\n",
    "\n",
    "        return training_process\n",
    "\n",
    "    def mse(self):\n",
    "        \"\"\"\n",
    "        A function to compute the total mean square error\n",
    "        \"\"\"\n",
    "        xs, ys = self.R.nonzero()\n",
    "        predicted = self.full_matrix()\n",
    "        error = 0\n",
    "        for x, y in zip(xs, ys):\n",
    "            error += pow(self.R[x, y] - predicted[x, y], 2)\n",
    "        return np.sqrt(error)\n",
    "\n",
    "    def sgd(self):\n",
    "        \"\"\"\n",
    "        Perform stochastic graident descent\n",
    "        \"\"\"\n",
    "        for i, j, r in self.samples:\n",
    "            # Computer prediction and error\n",
    "            prediction = self.get_rating(i, j)\n",
    "            e = (r - prediction)\n",
    "\n",
    "            # Update biases\n",
    "            self.b_u[i] += self.alpha * (e - self.beta * self.b_u[i])\n",
    "            self.b_i[j] += self.alpha * (e - self.beta * self.b_i[j])\n",
    "\n",
    "            # Update user and item latent feature matrices\n",
    "            self.P[i, :] += self.alpha * (e * self.Q[j, :] - self.beta * self.P[i,:])\n",
    "            self.Q[j, :] += self.alpha * (e * self.P[i, :] - self.beta * self.Q[j,:])\n",
    "    \n",
    "    def get_rating(self, i, j):\n",
    "        \"\"\"\n",
    "        Get the predicted rating of user i and item j\n",
    "        \"\"\"\n",
    "        prediction = self.b + self.b_u[i] + self.b_i[j] + self.P[i, :].dot(self.Q[j, :].T)\n",
    "        return prediction\n",
    "\n",
    "    def full_matrix(self):\n",
    "        \"\"\"\n",
    "        Computer the full matrix using the resultant biases, P and Q\n",
    "        \"\"\"\n",
    "        return self.b + self.b_u[:,np.newaxis] + self.b_i[np.newaxis:,] + self.P.dot(self.Q.T)\n",
    "    \n",
    "    \n"
   ]
  },
  {
   "cell_type": "code",
   "execution_count": 48,
   "metadata": {},
   "outputs": [
    {
     "name": "stdout",
     "output_type": "stream",
     "text": [
      "MF() ran in: 5.96046447754e-06 seconds.\n"
     ]
    }
   ],
   "source": [
    "mf = MF(tr_conv, K=10, alpha=0.1, beta=0.01, iterations=20)"
   ]
  },
  {
   "cell_type": "code",
   "execution_count": 49,
   "metadata": {},
   "outputs": [
    {
     "name": "stdout",
     "output_type": "stream",
     "text": [
      "Iteration: 5 ; error = 257.1262\n",
      "Iteration: 10 ; error = 242.2303\n",
      "Iteration: 15 ; error = 237.1415\n",
      "Iteration: 20 ; error = 238.6172\n",
      "train() ran in: 505.092225075 seconds.\n"
     ]
    },
    {
     "data": {
      "text/plain": [
       "[(0, 282.0320347810512),\n",
       " (1, 277.84620317410673),\n",
       " (2, 268.99192848287913),\n",
       " (3, 263.6308775887663),\n",
       " (4, 257.12616778262554),\n",
       " (5, 251.82655193212148),\n",
       " (6, 251.28235953228437),\n",
       " (7, 246.12078843579158),\n",
       " (8, 243.35379186669093),\n",
       " (9, 242.23028432704604),\n",
       " (10, 240.4242893778077),\n",
       " (11, 240.39199465029765),\n",
       " (12, 237.75525103856347),\n",
       " (13, 238.38817547978175),\n",
       " (14, 237.14152662509534),\n",
       " (15, 237.75969806861238),\n",
       " (16, 237.56188264563872),\n",
       " (17, 237.62067904754934),\n",
       " (18, 237.53732004819105),\n",
       " (19, 238.61718784655454)]"
      ]
     },
     "execution_count": 49,
     "metadata": {},
     "output_type": "execute_result"
    }
   ],
   "source": [
    "mf.train()"
   ]
  },
  {
   "cell_type": "code",
   "execution_count": 56,
   "metadata": {},
   "outputs": [
    {
     "data": {
      "text/plain": [
       "array([[ -5.17,  -6.41, -10.03, ...,  -5.05,  -6.53,  -7.22],\n",
       "       [  1.03,  -0.88,   6.55, ...,   1.04,   2.3 ,   5.08],\n",
       "       [  7.44,   5.61,   8.32, ...,   5.75,   7.64,   7.31],\n",
       "       ...,\n",
       "       [  0.06,  -2.94,   8.83, ...,  -2.88,  -0.06,   3.96],\n",
       "       [ -1.97,  -0.44,  -2.17, ...,  -0.31,  -2.69,   0.4 ],\n",
       "       [  1.2 ,   1.62,  -0.77, ...,   1.69,   0.02,   0.68]])"
      ]
     },
     "execution_count": 56,
     "metadata": {},
     "output_type": "execute_result"
    }
   ],
   "source": [
    "a = (((mf.full_matrix() - 1)*20) - 10).round(2); a"
   ]
  },
  {
   "cell_type": "code",
   "execution_count": 54,
   "metadata": {},
   "outputs": [
    {
     "data": {
      "text/plain": [
       "array([[-7.82,  8.79, -9.66, ...,   nan,   nan,   nan],\n",
       "       [ 4.08, -0.29,  6.36, ...,  0.34, -4.32,  1.07],\n",
       "       [  nan,   nan,   nan, ...,   nan,   nan,   nan],\n",
       "       ...,\n",
       "       [ 9.13, -8.16,  8.59, ..., -8.59,  9.13,  8.45],\n",
       "       [  nan,   nan,   nan, ...,   nan,   nan,   nan],\n",
       "       [  nan,   nan,   nan, ...,   nan,   nan,   nan]])"
      ]
     },
     "execution_count": 54,
     "metadata": {},
     "output_type": "execute_result"
    }
   ],
   "source": [
    "train"
   ]
  },
  {
   "cell_type": "code",
   "execution_count": 58,
   "metadata": {},
   "outputs": [],
   "source": [
    "tr2 = np.nan_to_num(train)\n",
    "dist = a[tr2 != 0] - tr2[tr2!=0]\n"
   ]
  },
  {
   "cell_type": "code",
   "execution_count": 60,
   "metadata": {},
   "outputs": [
    {
     "data": {
      "image/png": "[encoded data removed]",
      "text/plain": [
       "<Figure size 432x288 with 1 Axes>"
      ]
     },
     "metadata": {},
     "output_type": "display_data"
    }
   ],
   "source": [
    "import matplotlib.pyplot as plt\n",
    "\n",
    "plt.hist(dist, bins = 20)\n",
    "plt.show()"
   ]
  },
  {
   "cell_type": "code",
   "execution_count": 62,
   "metadata": {},
   "outputs": [
    {
     "data": {
      "text/plain": [
       "(21983, 10)"
      ]
     },
     "execution_count": 62,
     "metadata": {},
     "output_type": "execute_result"
    }
   ],
   "source": [
    "mf.P.shape"
   ]
  },
  {
   "cell_type": "code",
   "execution_count": 63,
   "metadata": {},
   "outputs": [
    {
     "data": {
      "text/plain": [
       "(100, 10)"
      ]
     },
     "execution_count": 63,
     "metadata": {},
     "output_type": "execute_result"
    }
   ],
   "source": [
    "mf.Q.shape"
   ]
  },
  {
   "cell_type": "code",
   "execution_count": 70,
   "metadata": {},
   "outputs": [
    {
     "data": {
      "text/plain": [
       "(3000, 21983)"
      ]
     },
     "execution_count": 70,
     "metadata": {},
     "output_type": "execute_result"
    }
   ],
   "source": [
    "corr_test = cosine_similarity(np.nan_to_num(test),np.nan_to_num(train))\n",
    "corr_test.shape"
   ]
  },
  {
   "cell_type": "code",
   "execution_count": 84,
   "metadata": {},
   "outputs": [],
   "source": [
    "simil_inds = [corr_test[i,np.squeeze(np.argsort(-corr_test[i,:]))[200]] for i in range(corr_test.shape[0])] "
   ]
  },
  {
   "cell_type": "code",
   "execution_count": 98,
   "metadata": {},
   "outputs": [],
   "source": [
    "new_arr = np.zeros(corr_test.shape)\n",
    "for i in range(corr_test.shape[0]):\n",
    "    a = corr_test[i,:]\n",
    "    a[a >= simil_inds[i]] = 1\n",
    "    a[a < simil_inds[i]] = 0\n",
    "    new_arr[i,:] = a\n",
    "    \n",
    "    "
   ]
  },
  {
   "cell_type": "code",
   "execution_count": 102,
   "metadata": {},
   "outputs": [],
   "source": [
    "guesses = np.matmul(corr_test, mf.P) / len(simil_inds)\n",
    "guesses = np.matmul(guesses, np.transpose(mf.Q))\n"
   ]
  },
  {
   "cell_type": "code",
   "execution_count": 104,
   "metadata": {},
   "outputs": [
    {
     "data": {
      "text/plain": [
       "0.017547461935850984"
      ]
     },
     "execution_count": 104,
     "metadata": {},
     "output_type": "execute_result"
    }
   ],
   "source": [
    "np.max(guesses)"
   ]
  }
 ],
 "metadata": {
  "kernelspec": {
   "display_name": "Python venv_py2",
   "language": "python",
   "name": "venv_py2"
  },
  "language_info": {
   "codemirror_mode": {
    "name": "ipython",
    "version": 2
   },
   "file_extension": ".py",
   "mimetype": "text/x-python",
   "name": "python",
   "nbconvert_exporter": "python",
   "pygments_lexer": "ipython2",
   "version": "2.7.12"
  }
 },
 "nbformat": 4,
 "nbformat_minor": 2
}
