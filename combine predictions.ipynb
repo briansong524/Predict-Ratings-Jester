{
 "cells": [
  {
   "cell_type": "code",
   "execution_count": 1,
   "metadata": {},
   "outputs": [],
   "source": [
    "import pandas as pd\n",
    "import numpy as np\n"
   ]
  },
  {
   "cell_type": "code",
   "execution_count": 4,
   "metadata": {},
   "outputs": [],
   "source": [
    "df1 = pd.read_csv('predictions_k200.csv')\n",
    "df2 = pd.read_csv('predictions_mf.csv')"
   ]
  },
  {
   "cell_type": "code",
   "execution_count": 10,
   "metadata": {},
   "outputs": [],
   "source": [
    "comb_df = pd.DataFrame({'UserId':df1.UserId.values, 'Rating1':(df1.Rating1.values + df2.Rating1.values) / 2,\n",
    "                       'Rating2':(df1.Rating2.values + df2.Rating2.values) / 2,'Rating3':(df1.Rating3.values + df2.Rating3.values) / 2})"
   ]
  },
  {
   "cell_type": "code",
   "execution_count": 13,
   "metadata": {},
   "outputs": [],
   "source": [
    "comb_df = comb_df[['UserId','Rating1','Rating2','Rating3']]\n",
    "comb_df.to_csv('/home/bsong/kaggle_uci/predictions_comb.csv',index = False)\n",
    "\n",
    "'''\n",
    "notes:\n",
    "combined predictions_k200 and predictions_mf to get RMSE = 4.88149 \n",
    "'''"
   ]
  }
 ],
 "metadata": {
  "kernelspec": {
   "display_name": "Python venv_py2",
   "language": "python",
   "name": "venv_py2"
  },
  "language_info": {
   "codemirror_mode": {
    "name": "ipython",
    "version": 2
   },
   "file_extension": ".py",
   "mimetype": "text/x-python",
   "name": "python",
   "nbconvert_exporter": "python",
   "pygments_lexer": "ipython2",
   "version": "2.7.12"
  }
 },
 "nbformat": 4,
 "nbformat_minor": 2
}
